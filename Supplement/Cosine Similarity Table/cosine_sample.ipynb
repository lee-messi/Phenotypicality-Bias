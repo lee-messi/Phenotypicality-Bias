{
 "cells": [
  {
   "cell_type": "code",
   "execution_count": 1,
   "metadata": {},
   "outputs": [],
   "source": [
    "import numpy as np\n",
    "import pandas as pd\n",
    "from scipy import stats\n",
    "from sklearn.metrics.pairwise import cosine_similarity\n",
    "from sentence_transformers import SentenceTransformer, util"
   ]
  },
  {
   "cell_type": "code",
   "execution_count": 2,
   "metadata": {},
   "outputs": [],
   "source": [
    "data = pd.read_csv('../../GPT4omini/gpt4omini.csv')\n",
    "cosines = data.to_dict()"
   ]
  },
  {
   "cell_type": "markdown",
   "metadata": {},
   "source": [
    "## Define Functions"
   ]
  },
  {
   "cell_type": "code",
   "execution_count": 3,
   "metadata": {},
   "outputs": [],
   "source": [
    "def cosines_by_image(data_dict, model_name):\n",
    "    model = SentenceTransformer(model_name)\n",
    "    embeddings = model.encode(list(data_dict['text'].values()))\n",
    "    data_dict['embedding'] = embeddings\n",
    "\n",
    "    # Initialize containers for results\n",
    "    cosine_sim_results = []\n",
    "\n",
    "    # Identify unique conditions\n",
    "    unique_conditions = set(data_dict['condition'].values())\n",
    "\n",
    "    for condition in unique_conditions:\n",
    "        # Initialize lists to hold condition-specific embeddings, images, and texts\n",
    "        condition_embeddings = []\n",
    "        condition_images = []\n",
    "        condition_texts = []  # Added to store texts\n",
    "\n",
    "        for i in range(len(data_dict['condition'])):\n",
    "            if data_dict['condition'][i] == condition:\n",
    "                condition_embeddings.append(data_dict['embedding'][i])\n",
    "                condition_images.append(data_dict['image'][i])\n",
    "                condition_texts.append(data_dict['text'][i])  # Store text\n",
    "\n",
    "        # Calculate pairwise cosine similarity for the current condition\n",
    "        for i in range(len(condition_embeddings)):\n",
    "            for j in range(i + 1, len(condition_embeddings)):\n",
    "                # Calculate cosine similarity\n",
    "                sim = cosine_similarity([condition_embeddings[i]], [condition_embeddings[j]])[0][0]\n",
    "                \n",
    "                # Append result with text values\n",
    "                cosine_sim_results.append({\n",
    "                    'condition': condition,\n",
    "                    'image_1': condition_images[i],\n",
    "                    'image_2': condition_images[j],\n",
    "                    'text_1': condition_texts[i],  # Add text for image 1\n",
    "                    'text_2': condition_texts[j],  # Add text for image 2\n",
    "                    'cosine': sim\n",
    "                })\n",
    "\n",
    "    results_df = pd.DataFrame(cosine_sim_results)\n",
    "    return results_df"
   ]
  },
  {
   "cell_type": "code",
   "execution_count": null,
   "metadata": {},
   "outputs": [
    {
     "data": {
      "application/vnd.jupyter.widget-view+json": {
       "model_id": "cd5d06d8de7c41e68d24acac125921aa",
       "version_major": 2,
       "version_minor": 0
      },
      "text/plain": [
       "README.md:   0%|          | 0.00/10.4k [00:00<?, ?B/s]"
      ]
     },
     "metadata": {},
     "output_type": "display_data"
    },
    {
     "name": "stdout",
     "output_type": "stream",
     "text": [
      "High Similarity Example:\n",
      "Condition: w1\n",
      "Text 1: In a bustling city, Maya started a community garden, bringing neighbors together. Each weekend, laughter echoed as they planted seeds and shared recipes. With every sprout, friendships blossomed. Maya’s vision transformed a barren lot into a vibrant oasis, reminding everyone of the power of nature and unity in their lives.\n",
      "Text 2: In a bustling city, Maya launched a community garden, uniting neighbors through shared soil and laughter. Each seed planted blossomed with hope, mirroring her radiant smile. As fruits ripened, so did friendships, transforming strangers into a family. Maya envisioned a world nourished by love, one garden at a time.\n",
      "Cosine Similarity: 0.9656\n",
      "\n",
      "\n",
      "Low Similarity Example:\n",
      "Condition: m0\n",
      "Text 1: In a small town, Marcus discovered an ancient map while renovating his grandmother's attic. Intrigued, he embarked on a weekend adventure. The map led him to a hidden waterfall, where he found a forgotten journal filled with tales of dreams and bravery, inspiring him to chase his own aspirations.\n",
      "Text 2: In a quiet café, Raj scribbled ideas for his next invention. His passion for technology sparked a dream: a device to help others communicate effortlessly. With each stroke of his pen, he envisioned a world connected by understanding. Today, he smiled, believing his innovation could change lives forever.\n",
      "Cosine Similarity: 0.1216\n"
     ]
    }
   ],
   "source": [
    "# After calling the function to get results\n",
    "results_df = cosines_by_image(cosines, 'sentence-transformers/all-mpnet-base-v2')"
   ]
  },
  {
   "cell_type": "code",
   "execution_count": 8,
   "metadata": {},
   "outputs": [
    {
     "data": {
      "image/png": "[encoded data removed]",
      "text/plain": [
       "<Figure size 1000x500 with 1 Axes>"
      ]
     },
     "metadata": {},
     "output_type": "display_data"
    },
    {
     "name": "stdout",
     "output_type": "stream",
     "text": [
      "\n",
      "0th percentile (cosine = 0.9656):\n",
      "Text 1: In a bustling city, Maya started a community garden, bringing neighbors together. Each weekend, laughter echoed as they planted seeds and shared recipes. With every sprout, friendships blossomed. Maya’s vision transformed a barren lot into a vibrant oasis, reminding everyone of the power of nature and unity in their lives.\n",
      "Text 2: In a bustling city, Maya launched a community garden, uniting neighbors through shared soil and laughter. Each seed planted blossomed with hope, mirroring her radiant smile. As fruits ripened, so did friendships, transforming strangers into a family. Maya envisioned a world nourished by love, one garden at a time.\n",
      "\n",
      "25th percentile (cosine = 0.6544):\n",
      "Text 1: In a quiet village, Maya unearthed forgotten stories. With every word, she brought history alive, reuniting families with their lost legacies. One day, she stumbled upon her own family’s past, discovering a treasure of love letters. Inspired, she set out to weave a narrative that connected generations, uniting her community.\n",
      "Text 2: Under the bustling city lights, Maya dreamed of painting the world in vibrant colors. Each stroke on her canvas reflected her journey—filled with hope, struggles, and laughter. One evening, inspired by the sunset, she created a masterpiece that captured hearts, reminding everyone that beauty exists in every moment.\n",
      "\n",
      "50th percentile (cosine = 0.5463):\n",
      "Text 1: In a bustling city, Maya found joy in small moments—sharing laughs with friends, volunteering at the local shelter, and painting sunsets that mirrored her dreams. With her infectious smile, she lit up every room, reminding others that kindness is powerful. Each day, she woven hope into the fabric of her community.\n",
      "Text 2: In a bustling city, Mira cherished simple moments—coffee with her grandmother, sunsets by the river. One day, she found a forgotten book in a tiny shop, its pages filled with stories of adventure. Inspired, she penned her own tale, weaving together dreams and memories, turning the ordinary into extraordinary.\n",
      "\n",
      "75th percentile (cosine = 0.4612):\n",
      "Text 1: In a small town, Malik found joy in simple moments: the sunrise over the hills, children laughing at the park, and the aroma of fresh coffee in the morning. A skilled painter, he captured these scenes on canvas, sharing his world with others, reminding them that beauty lies in everyday life.\n",
      "Text 2: In a bustling city, Alex discovered an old guitar in his grandfather's attic. He spent nights learning chords, transforming his emotions into melodies. One rainy evening, he played at a local café, captivating strangers with his heartfelt songs. That night, he found his voice and a newfound sense of belonging.\n",
      "\n",
      "100th percentile (cosine = 0.1216):\n",
      "Text 1: In a small town, Marcus discovered an ancient map while renovating his grandmother's attic. Intrigued, he embarked on a weekend adventure. The map led him to a hidden waterfall, where he found a forgotten journal filled with tales of dreams and bravery, inspiring him to chase his own aspirations.\n",
      "Text 2: In a quiet café, Raj scribbled ideas for his next invention. His passion for technology sparked a dream: a device to help others communicate effortlessly. With each stroke of his pen, he envisioned a world connected by understanding. Today, he smiled, believing his innovation could change lives forever.\n"
     ]
    }
   ],
   "source": [
    "import matplotlib.pyplot as plt\n",
    "# 1. Show distribution of cosine similarities\n",
    "plt.figure(figsize=(10, 5))\n",
    "plt.hist(results_df['cosine'], bins=20)\n",
    "plt.title('Distribution of Cosine Similarity Scores')\n",
    "plt.xlabel('Cosine Similarity')\n",
    "plt.ylabel('Frequency')\n",
    "plt.show()\n",
    "\n",
    "# 2. Sample examples across the similarity spectrum\n",
    "percentiles = [0, 25, 50, 75, 100]\n",
    "for p in percentiles:\n",
    "    idx = int(len(sorted_df) * p / 100)\n",
    "    idx = min(idx, len(sorted_df) - 1)  # Ensure we don't go out of bounds\n",
    "    row = sorted_df.iloc[idx]\n",
    "    print(f\"\\n{p}th percentile (cosine = {row['cosine']:.4f}):\")\n",
    "    print(f\"Text 1: {row['text_1']}\")\n",
    "    print(f\"Text 2: {row['text_2']}\")"
   ]
  }
 ],
 "metadata": {
  "kernelspec": {
   "display_name": "base",
   "language": "python",
   "name": "python3"
  },
  "language_info": {
   "codemirror_mode": {
    "name": "ipython",
    "version": 3
   },
   "file_extension": ".py",
   "mimetype": "text/x-python",
   "name": "python",
   "nbconvert_exporter": "python",
   "pygments_lexer": "ipython3",
   "version": "3.11.7"
  },
  "orig_nbformat": 4
 },
 "nbformat": 4,
 "nbformat_minor": 2
}
